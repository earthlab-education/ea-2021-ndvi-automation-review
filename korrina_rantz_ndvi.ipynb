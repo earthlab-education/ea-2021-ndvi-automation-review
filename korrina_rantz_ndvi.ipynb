{
 "cells": [
  {
   "cell_type": "markdown",
   "metadata": {},
   "source": [
    "<img style=\"float: left;\" src=\"earth-lab-logo-rgb.png\" width=\"150\" height=\"150\" />\n",
    "\n",
    "# Earth Analytics Education - EA  Python Course Spring 2021"
   ]
  },
  {
   "cell_type": "markdown",
   "metadata": {},
   "source": [
    "## Important  - Assignment Guidelines\n",
    "\n",
    "1. Before you submit your assignment to GitHub, make sure to run the entire notebook with a fresh kernel. To do this first, **restart the kernel** (in the menubar, select Kernel$\\rightarrow$Restart & Run All)\n",
    "2. Always replace the `raise NotImplementedError()` code with your code that addresses the activity challenge. If you don't replace that code, your notebook will not run.\n",
    "\n",
    "```\n",
    "# YOUR CODE HERE\n",
    "raise NotImplementedError()\n",
    "```\n",
    "\n",
    "3. Any open ended questions will have a \"YOUR ANSWER HERE\" within a markdown cell. Replace that text with your answer also formatted using Markdown.\n",
    "4. **DO NOT RENAME THIS NOTEBOOK File!** If the file name changes, the autograder will not grade your assignment properly.\n",
    "6. When you create a figure, comment out `plt.show()` to ensure the autograder can grade your plots. For figure cells, DO NOT DELETE the code that says `DO NOT REMOVE LINE BELOW`.\n",
    "\n",
    "```\n",
    "### DO NOT REMOVE LINE BELOW ###\n",
    "student_plot1_ax = nb.convert_axes(plt)\n",
    "```\n",
    "\n",
    "* Only include the package imports, code, and outputs that are required to run your homework assignment.\n",
    "* Be sure that your code can be run on any operating system. This means that:\n",
    "   1. the data should be downloaded in the notebook to ensure it's reproducible\n",
    "   2. all paths should be created dynamically using the `os.path.join`\n",
    "\n",
    "## Follow to PEP 8 Syntax Guidelines & Documentation\n",
    "\n",
    "* Run the `autopep8` tool on all cells prior to submitting (HINT: hit shift + the tool to run it on all cells at once!\n",
    "* Use clear and expressive names for variables. \n",
    "* Organize your code to support readability.\n",
    "* Check for code line length\n",
    "* Use comments and white space sparingly where it is needed\n",
    "* Make sure all python imports are at the top of your notebook and follow PEP 8 order conventions\n",
    "* Spell check your Notebook before submitting it.\n",
    "\n",
    "For all of the plots below, be sure to do the following:\n",
    "\n",
    "* Make sure each plot has a clear TITLE and, where appropriate, label the x and y axes. Be sure to include UNITS in your labels.\n"
   ]
  },
  {
   "cell_type": "markdown",
   "metadata": {},
   "source": [
    "### Add Your Name Below \n",
    "**Your Name: Korrina Rantz**"
   ]
  },
  {
   "cell_type": "markdown",
   "metadata": {},
   "source": [
    "<img style=\"float: left;\" src=\"colored-bar.png\"/>"
   ]
  },
  {
   "cell_type": "markdown",
   "metadata": {},
   "source": [
    "---"
   ]
  },
  {
   "cell_type": "markdown",
   "metadata": {
    "deletable": false,
    "editable": false,
    "nbgrader": {
     "cell_type": "markdown",
     "checksum": "482b6a6fad5a6b7297cd1f14b52b28e1",
     "grade": false,
     "grade_id": "hw-instructions",
     "locked": true,
     "schema_version": 3,
     "solution": false,
     "task": false
    }
   },
   "source": [
    "# Week 04 and 05 Homework - Automate NDVI Workflow\n",
    "\n",
    "For this assignment, you will write code to generate a plot of the mean normalized difference vegetation index (NDVI) for two different sites in the United States across one year of data:\n",
    "\n",
    "* San Joaquin Experimental Range (SJER) in Southern California, United States\n",
    "* Harvard Forest (HARV) in the Northeastern United States\n",
    "\n",
    "The data that you will use for this week is available from **earthpy** using the following download: \n",
    "\n",
    "`et.data.get_data('ndvi-automation')`\n",
    "\n",
    "## Assignment Goals\n",
    "\n",
    "Your goal in this assignment is to create the most efficient and concise workflow that you can that allows for:\n",
    "\n",
    "1. The code to scale if you added new sites or more time periods to the analysis.\n",
    "2. Someone else to understand your workflow.\n",
    "3. The LEAST and most efficient (i.e. runs fast, minimize repetition) amount of code that completes the task.\n",
    "\n",
    "### HINTS\n",
    "\n",
    "* Remove values outside of the landsat valid range of values as specified in the metadata, as needed.\n",
    "* Keep any output files SEPARATE FROM input files. Outputs should be created in an outputs directory that is created in the code (if needed) and/or tested for.\n",
    "* Use the functions that we demonstrated during class to make your workflow more efficient.\n",
    "* BONUS - if you  chose - you can export your data as a csv file. You will get bonus points for doing this.\n",
    "\n",
    "\n",
    "## Assignment Requirements\n",
    "\n",
    "Your submission to the GitHub repository should include:\n",
    "* This Jupyter Notebook file (.ipynb) with:\n",
    "    * The code to create a plot of mean NDVI across a year for  2 NEON Field Sites:\n",
    "        * NDVI on the x axis and formatted dates on the y for both NEON sites on one figure/axis object\n",
    "    * The **data should be cleaned to remove the influence of clouds**. See the [earthdatascience website for an example of what your plot might look like with and without removal of clouds](https://www.earthdatascience.org/courses/earth-analytics-python/create-efficient-data-workflows/).\n",
    "* BONUS: Create one output `.csv` file that has 3 columns - NDVI, Date and Site Name - with values for SJER and HARV.\n",
    "\n",
    "Your notebook should:\n",
    "* Have *at least* 2 well documented and well named functions with docstrings.\n",
    "* Include a Markdown cell at the top of the notebook that outlines the overall workflow using pseudocode (i.e. plain language, not code)\n",
    "* Include additional Markdown cells throughout the notebook to describe: \n",
    "    * the data that you used - and where it is from\n",
    "    * how data are being processing\n",
    "    * how the code is optimized to run fast and be more concise"
   ]
  },
  {
   "cell_type": "markdown",
   "metadata": {
    "deletable": false,
    "editable": false,
    "nbgrader": {
     "cell_type": "markdown",
     "checksum": "ca51bc48f62e7d3602d0567f742e1b15",
     "grade": false,
     "grade_id": "pseudo-code",
     "locked": true,
     "points": 15,
     "schema_version": 3,
     "solution": false,
     "task": true
    }
   },
   "source": [
    "# Replace this cell with your pseudocode  for this workflow\n",
    "\n",
    "If you happen to be a diagram person a diagram is ok too\n",
    "\n"
   ]
  },
  {
   "cell_type": "markdown",
   "metadata": {},
   "source": [
    "Goal: Calculate and plot the mean normalized difference vegetation index (NDVI) for two Landsat scenes. Include functions so more scenes or time could be easily added. To accomplish this use the following steps:\n",
    "1. Create functions to automate workflow\n",
    "2. Open the data, use glob to access necessary files\n",
    "3. Get study area crop file and open with .gpd to create boundary\n",
    "4. Get .tif files for bands 4 and 5, open and clip using function created above\n",
    "5. Get values to create cloud mask\n",
    "6. Open and clip cloud mask layer\n",
    "7. Use function created above to open and mask landsat band using a pixel_qa layer, calculate NDVI\n",
    "8. Use numpy function np.nanmean(xarray_name) to calculate the mean\n",
    "9. Create pandas dataframe date with NDVI mean values, site name and indexed date\n",
    "10. Plot the data"
   ]
  },
  {
   "cell_type": "code",
   "execution_count": 1,
   "metadata": {
    "deletable": false,
    "editable": false,
    "nbgrader": {
     "cell_type": "code",
     "checksum": "9c7cd3e2e5089092e06ba301f2719a63",
     "grade": false,
     "grade_id": "core-imports",
     "locked": true,
     "schema_version": 3,
     "solution": false,
     "task": false
    }
   },
   "outputs": [],
   "source": [
    "# Autograding imports - do not modify this cell\n",
    "import matplotcheck.autograde as ag\n",
    "import matplotcheck.notebook as nb\n",
    "import matplotcheck.timeseries as ts\n",
    "from datetime import datetime"
   ]
  },
  {
   "cell_type": "code",
   "execution_count": 2,
   "metadata": {
    "deletable": false,
    "nbgrader": {
     "cell_type": "code",
     "checksum": "3c4d1141999885a9a9b09772962b180a",
     "grade": true,
     "grade_id": "student-imports-answer",
     "locked": false,
     "points": 10,
     "schema_version": 3,
     "solution": true,
     "task": false
    },
    "tags": [
     "hide",
     "hide_output"
    ]
   },
   "outputs": [],
   "source": [
    "# Import packages\n",
    "import os\n",
    "from glob import glob\n",
    "\n",
    "import matplotlib.pyplot as plt\n",
    "import pandas as pd\n",
    "import numpy as np\n",
    "import geopandas as gpd\n",
    "import rioxarray as rxr\n",
    "import xarray as xr\n",
    "import earthpy as et\n",
    "\n",
    "# Get data and set working directory\n",
    "data = et.data.get_data('ndvi-automation')\n",
    "os.chdir(os.path.join(et.io.HOME,\n",
    "                      \"earth-analytics\",\n",
    "                      \"data\"))"
   ]
  },
  {
   "cell_type": "code",
   "execution_count": 3,
   "metadata": {
    "deletable": false,
    "editable": false,
    "hideCode": false,
    "hidePrompt": false,
    "nbgrader": {
     "cell_type": "code",
     "checksum": "dcf5b59326bf066172ff61520b658a3d",
     "grade": true,
     "grade_id": "student-download-tests",
     "locked": true,
     "points": 0,
     "schema_version": 3,
     "solution": false,
     "task": false
    }
   },
   "outputs": [
    {
     "name": "stdout",
     "output_type": "stream",
     "text": [
      "✅ Great - it looks like your working directory is set correctly to ~/earth-analytics/data\n"
     ]
    }
   ],
   "source": [
    "# DO NOT MODIFY THIS CELL\n",
    "# Tests that the working directory is set to earth-analytics/data\n",
    "\n",
    "path = os.path.normpath(os.getcwd())\n",
    "student_wd_parts = path.split(os.sep)\n",
    "\n",
    "if student_wd_parts[-2:] == ['earth-analytics', 'data']:\n",
    "    print(\"\\u2705 Great - it looks like your working directory is set correctly to ~/earth-analytics/data\")\n",
    "else:\n",
    "    print(\"\\u274C Oops, the autograder will not run unless your working directory is set to earth-analytics/data\")"
   ]
  },
  {
   "cell_type": "markdown",
   "metadata": {
    "deletable": false,
    "editable": false,
    "nbgrader": {
     "cell_type": "markdown",
     "checksum": "35205d12dc9e8fa05a26fb927c0a2307",
     "grade": false,
     "grade_id": "ndvi-mean-site-instructions",
     "locked": true,
     "schema_version": 3,
     "solution": false,
     "task": false
    }
   },
   "source": [
    "# Figure 1: Plot 1 - Mean NDVI For Each Site Across the Year (50 points)\n",
    "\n",
    "Create a plot of the mean normalized difference vegetation index (NDVI) for the two different sites in the United States across the year: \n",
    "\n",
    "* NDVI on the x axis and formatted dates on the y for both NEON sites on one figure/axis object.\n",
    "* Each site should be identified with a different color in the plot and legend.\n",
    "* The final plot **data should be cleaned to remove the influence of clouds**.\n",
    "* Be sure to include appropriate title and axes labels.\n",
    "\n",
    "Add additional cells as needed for processing data (e.g. defining functions, etc), but be sure to:\n",
    "* follow the instructions in the code cells that have been provided to ensure that you are able to use the sanity check tests that are provided. \n",
    "* include only the plot code in the cell identified for the final plot code below"
   ]
  },
  {
   "cell_type": "markdown",
   "metadata": {
    "deletable": false,
    "editable": false,
    "nbgrader": {
     "cell_type": "markdown",
     "checksum": "ce17d4d685cd4c7034bd7b0bb389342a",
     "grade": false,
     "grade_id": "single-scene-instructions",
     "locked": true,
     "schema_version": 3,
     "solution": false,
     "task": false
    }
   },
   "source": [
    "## Task 1: \n",
    "\n",
    "In the cell below, create a single dataframe containing MEAN NDVI, the site name, \n",
    "and the date of the data for the HARV site \n",
    "scene `HARV/landsat-crop/LC080130302017031701T1-SC20181023151837`.  The column names for the  final\n",
    "DataFrame should be`mean_ndvi`, and `site`, and the data should be **indexed on the date**. \n",
    "\n",
    "Use the functions that we reviewed in class (or create your own versions of them) to implement your code\n",
    "\n",
    "### In the Cell below Place  All Functions Needed to Run this Notebook (20 points)"
   ]
  },
  {
   "cell_type": "code",
   "execution_count": 4,
   "metadata": {
    "deletable": false,
    "editable": false,
    "nbgrader": {
     "cell_type": "code",
     "checksum": "0ee340cd9af6c949a08eb4b325716ae0",
     "grade": false,
     "grade_id": "cell-618e3588853f3ed8",
     "locked": true,
     "schema_version": 3,
     "solution": false,
     "task": false
    }
   },
   "outputs": [],
   "source": [
    "### DO NOT REMOVE THIS LINE OR EDIT / MOVE THIS CELL ###\n",
    "start_time = datetime.now()"
   ]
  },
  {
   "cell_type": "code",
   "execution_count": 5,
   "metadata": {
    "deletable": false,
    "nbgrader": {
     "cell_type": "code",
     "checksum": "653ebd5db668245408615979f6c20944",
     "grade": true,
     "grade_id": "function-definitions-check",
     "locked": false,
     "points": 40,
     "schema_version": 3,
     "solution": true,
     "task": false
    }
   },
   "outputs": [],
   "source": [
    "# Functions needed to run notebook\n",
    "\n",
    "def open_clean_bands(band_path,\n",
    "                     crop_extent,\n",
    "                     valid_range=None,):\n",
    "    \"\"\"Opens and crops a single landsat band using a vector file.\n",
    "\n",
    "    Parameters\n",
    "    -----------\n",
    "    band_path : string\n",
    "        A path to the array to be opened\n",
    "    crop_extent : geopandas GeoDataFrame\n",
    "        A geopandas dataframe to be used to crop the raster data using rasterio mask().\n",
    "    valid_range : tuple (optional)\n",
    "        A tuple of min and max range of values for the data. Default = None\n",
    "\n",
    "\n",
    "    Returns\n",
    "    -----------\n",
    "    arr : xarray DataArray\n",
    "        An xarray DataArray with values that should be masked set to 1 for True (Boolean)\n",
    "    \"\"\"\n",
    "    band = rxr.open_rasterio(band_path, masked=True).rio.clip(crop_extent.geometry,\n",
    "                                                              from_disk=True).squeeze()\n",
    "\n",
    "    if valid_range:\n",
    "        mask = ((band < valid_range[0]) | (band > valid_range[1]))\n",
    "        band = band.where(~xr.where(mask, True, False))\n",
    "\n",
    "    return band\n",
    "\n",
    "# This function opens the cloud mask, calculates NDVI & masks the data\n",
    "\n",
    "\n",
    "def mask_crop_ndvi(all_bands,\n",
    "                   crop_bound,\n",
    "                   pixel_qa_path,\n",
    "                   vals):\n",
    "    \"\"\"Open and mask landsat band/s using a pixel_qa layer. Create a cloud mask.\n",
    "    Calculate NDVI with applied cloud mask. \n",
    "\n",
    "    Parameters\n",
    "    -----------\n",
    "    all_bands : list\n",
    "        A list containing two xarray objects for landsat bands 4 and  5\n",
    "    crop_bound: geopandas GeoDataFrame\n",
    "        A geopandas dataframe to be used to crop the raster data using rasterio mask().\n",
    "    pixel_qa_path: string\n",
    "        A path to a pixel qa tif file.\n",
    "    vals: list\n",
    "        A list of values needed to create the cloud mask\n",
    "\n",
    "\n",
    "    Returns\n",
    "    -----------\n",
    "    ndvi_crop : Xarray Dataset\n",
    "        a cropped and masked xarray object containing NDVI values\n",
    "    \"\"\"\n",
    "\n",
    "    crop_json = crop_bound.geometry\n",
    "\n",
    "    # Open and clip qa layer\n",
    "    pixel_qa = rxr.open_rasterio(pixel_qa_path[0], masked=True).rio.clip(crop_json,\n",
    "                                                                         from_disk=True).squeeze()\n",
    "\n",
    "    # Calculate NDVI\n",
    "    ndvi_xr = (all_bands[1]-all_bands[0]) / (all_bands[1]+all_bands[0])\n",
    "    # Apply cloud mask to NDVI\n",
    "    ndvi_mask = ndvi_xr.where(~pixel_qa.isin(vals))\n",
    "\n",
    "    return ndvi_mask"
   ]
  },
  {
   "cell_type": "markdown",
   "metadata": {},
   "source": [
    "Created two functions for repetitive tasks in the notebook. These functions will be reusable, create fewer variables and make updates and additions to the code easier.  "
   ]
  },
  {
   "cell_type": "code",
   "execution_count": 6,
   "metadata": {
    "deletable": false,
    "nbgrader": {
     "cell_type": "code",
     "checksum": "d124eef1d9cf2d0063ab450c9a20dc8e",
     "grade": false,
     "grade_id": "single-scene-answer",
     "locked": false,
     "schema_version": 3,
     "solution": true,
     "task": false
    },
    "scrolled": false,
    "tags": [
     "hide"
    ]
   },
   "outputs": [
    {
     "data": {
      "text/html": [
       "<div>\n",
       "<style scoped>\n",
       "    .dataframe tbody tr th:only-of-type {\n",
       "        vertical-align: middle;\n",
       "    }\n",
       "\n",
       "    .dataframe tbody tr th {\n",
       "        vertical-align: top;\n",
       "    }\n",
       "\n",
       "    .dataframe thead th {\n",
       "        text-align: right;\n",
       "    }\n",
       "</style>\n",
       "<table border=\"1\" class=\"dataframe\">\n",
       "  <thead>\n",
       "    <tr style=\"text-align: right;\">\n",
       "      <th></th>\n",
       "      <th>site</th>\n",
       "      <th>mean_ndvi</th>\n",
       "    </tr>\n",
       "    <tr>\n",
       "      <th>date</th>\n",
       "      <th></th>\n",
       "      <th></th>\n",
       "    </tr>\n",
       "  </thead>\n",
       "  <tbody>\n",
       "    <tr>\n",
       "      <th>2017-03-17</th>\n",
       "      <td>HARV</td>\n",
       "      <td>0.281132</td>\n",
       "    </tr>\n",
       "  </tbody>\n",
       "</table>\n",
       "</div>"
      ],
      "text/plain": [
       "            site  mean_ndvi\n",
       "date                       \n",
       "2017-03-17  HARV   0.281132"
      ]
     },
     "execution_count": 6,
     "metadata": {},
     "output_type": "execute_result"
    }
   ],
   "source": [
    "# Create dataframe of mean NDVI in this cell using the functions created above\n",
    "# Create path for single directory\n",
    "harv_dir = os.path.join(\"ndvi-automation\", \"sites\", \"HARV\", \"landsat-crop\",\n",
    "                        \"LC080130302017031701T1-SC20181023151837\")\n",
    "\n",
    "# Parse out date and site_name to add into dataframe\n",
    "date = harv_dir[-29:-21]\n",
    "site = harv_dir[22:26]\n",
    "\n",
    "# Open crop\n",
    "harv_crop_path = os.path.join(\"ndvi-automation\", \"sites\", \"HARV\",\n",
    "                              \"vector\", \"HARV-crop.shp\")\n",
    "harv_crop_bound = gpd.read_file(harv_crop_path)\n",
    "\n",
    "# Open and sort bands needed to calculate NDVI, use function to combine bands\n",
    "harv_dir = os.path.join(\"ndvi-automation\", \"sites\", \"HARV\", \"landsat-crop\",\n",
    "                        \"LC080130302017031701T1-SC20181023151837\")\n",
    "harv_bands_path = sorted(glob(os.path.join(harv_dir, \"*band[4-5]*.tif\")))\n",
    "\n",
    "# Apply function that opens & clips the data using loop for both bands\n",
    "all_bands = []\n",
    "for aband in harv_bands_path:\n",
    "    cleaned_band = open_clean_bands(band_path=aband,\n",
    "                                    crop_extent=harv_crop_bound,\n",
    "                                    valid_range=(0, 10000))\n",
    "    all_bands.append(cleaned_band)\n",
    "\n",
    "# Cloud no data vals\n",
    "vals = [328, 392, 840, 904, 1350, 352, 368, 416,\n",
    "        432, 480, 864, 880, 928, 944, 992, 480, 992]\n",
    "# Open cloud mask layer\n",
    "pixel_qa_path = glob(os.path.join(harv_dir, \"*qa*\"))\n",
    "# Open and mask landsat band using a pixel_qa layer, calculate NDVI\n",
    "harv_ndvi_clean = mask_crop_ndvi(all_bands=all_bands,\n",
    "                                 crop_bound=harv_crop_bound,\n",
    "                                 pixel_qa_path=pixel_qa_path,\n",
    "                                 vals=vals)\n",
    "# Get mean from ndvi_clean\n",
    "harv_ndvi_mean = np.nanmean(harv_ndvi_clean)\n",
    "\n",
    "# Create dataframe, append and name columns\n",
    "data = {\"date\": [date], \"site\": [site], \"mean_ndvi\": [harv_ndvi_mean]}\n",
    "harv_df = pd.DataFrame(data=data)\n",
    "harv_df['date'] = pd.to_datetime(harv_df['date'])\n",
    "harv_df = harv_df.set_index('date')\n",
    "harv_df"
   ]
  },
  {
   "cell_type": "markdown",
   "metadata": {},
   "source": [
    "Able to use the open_clean_bands function to open multiple bands, crop to the needed extent and within the valid range.  The steps within this code help save time with processing because only the data needed in the crop extent is processed rather than the full dataset.  Putting this function into a loop allows you to iterate through all of the bands that need to be opened and cropped.  The second function is also used to calculate the NDVI with the cloud mask.  Putting the mask in the functions saves steps so you do not have to repeatedly mask data.  Again a crop is used so processing time is saved by just processing a slice.  "
   ]
  },
  {
   "cell_type": "code",
   "execution_count": 7,
   "metadata": {
    "deletable": false,
    "editable": false,
    "nbgrader": {
     "cell_type": "code",
     "checksum": "6121e3a0293ed64f09521b5d248496c3",
     "grade": true,
     "grade_id": "single-scene-tests",
     "locked": true,
     "points": 15,
     "schema_version": 3,
     "solution": false,
     "task": false
    }
   },
   "outputs": [
    {
     "name": "stdout",
     "output_type": "stream",
     "text": [
      "✅ Your data is stored in a DataFrame!\n",
      "✅ You have the index set to the date column!\n",
      "✅ The data in your date column is datetime!\n",
      "✅ You have the correct site name!\n",
      "✅ You have the correct mean NDVI value!\n",
      "\n",
      " ➡ You received 15 out of 15 points for creating a dataframe.\n"
     ]
    },
    {
     "data": {
      "text/plain": [
       "15"
      ]
     },
     "execution_count": 7,
     "metadata": {},
     "output_type": "execute_result"
    }
   ],
   "source": [
    "# This cell  is testing your data output above\n",
    "\n",
    "student_ndvi_ts_single_site = _\n",
    "\n",
    "single_scene_points = 0\n",
    "\n",
    "# Ensure the data is stored in a dataframe.\n",
    "if isinstance(student_ndvi_ts_single_site, pd.DataFrame):\n",
    "    print('\\u2705 Your data is stored in a DataFrame!')\n",
    "    single_scene_points += 1\n",
    "else:\n",
    "    print('\\u274C It appears your data is not stored in a DataFrame. ',\n",
    "          'To see what type of object your data is stored in, check its type with type(object)')\n",
    "\n",
    "# Ensure that the date column is the index\n",
    "if isinstance(student_ndvi_ts_single_site.index, pd.core.indexes.datetimes.DatetimeIndex):\n",
    "    print('\\u2705 You have the index set to the date column!')\n",
    "    single_scene_points += 2\n",
    "else:\n",
    "    print('\\u274C You do not have the index set to the date column.')\n",
    "\n",
    "# Ensure that the date column is datetime\n",
    "if isinstance(student_ndvi_ts_single_site.index[0], pd._libs.tslibs.timestamps.Timestamp):\n",
    "    print('\\u2705 The data in your date column is datetime!')\n",
    "    single_scene_points += 2\n",
    "else:\n",
    "    print('\\u274C The data in your date column is not datetime.')\n",
    "\n",
    "# Ensure the site name is correct\n",
    "if student_ndvi_ts_single_site.site.values[0] == 'HARV':\n",
    "    print('\\u2705 You have the correct site name!')\n",
    "    single_scene_points += 5\n",
    "else:\n",
    "    print('\\u274C You do not have the correct site name.')\n",
    "\n",
    "if np.allclose(0.281131628228094, student_ndvi_ts_single_site.mean_ndvi.values[0]):\n",
    "    print('\\u2705 You have the correct mean NDVI value!')\n",
    "    single_scene_points += 5\n",
    "else:\n",
    "    print('\\u274C You do not have the correct mean ndvi value.')\n",
    "\n",
    "print(\"\\n \\u27A1 You received {} out of 15 points for creating a dataframe.\".format(\n",
    "    single_scene_points))\n",
    "single_scene_points"
   ]
  },
  {
   "cell_type": "markdown",
   "metadata": {},
   "source": [
    "## Task 2:\n",
    "\n",
    "In the cell below, process all of the landsat scenes. Create a DataFrame that contains the following \n",
    "information for each scene\n",
    "\n",
    "\n",
    "|   | index  | site  | mean_ndvi  | \n",
    "|---|---|---|---|\n",
    "| Date  |   |   |   |\n",
    "|  2017-01-07  | 0  | SJER  | .4  |  \n",
    "\n",
    "Be sure to call your dataframe at the end of the cell to ensure autograding works.\n",
    "HINT: FOR THIS STEP, leave any rows containing missing values (`NAN`)."
   ]
  },
  {
   "cell_type": "code",
   "execution_count": 8,
   "metadata": {
    "deletable": false,
    "nbgrader": {
     "cell_type": "code",
     "checksum": "848dd486333246e15b6b8f0dff745a4b",
     "grade": false,
     "grade_id": "cleaned_dataframes_answer",
     "locked": false,
     "schema_version": 3,
     "solution": true,
     "task": false
    },
    "tags": [
     "hide"
    ]
   },
   "outputs": [
    {
     "name": "stdout",
     "output_type": "stream",
     "text": [
      "ndvi-automation/sites/SJER/\n"
     ]
    },
    {
     "ename": "NameError",
     "evalue": "name 'crop_path' is not defined",
     "output_type": "error",
     "traceback": [
      "\u001b[0;31m---------------------------------------------------------------------------\u001b[0m",
      "\u001b[0;31mNameError\u001b[0m                                 Traceback (most recent call last)",
      "\u001b[0;32m<ipython-input-8-371f24cd8bcd>\u001b[0m in \u001b[0;36m<module>\u001b[0;34m\u001b[0m\n\u001b[1;32m     17\u001b[0m \u001b[0;32mfor\u001b[0m \u001b[0ma_dir\u001b[0m \u001b[0;32min\u001b[0m \u001b[0mall_dirs\u001b[0m\u001b[0;34m:\u001b[0m\u001b[0;34m\u001b[0m\u001b[0;34m\u001b[0m\u001b[0m\n\u001b[1;32m     18\u001b[0m     \u001b[0mprint\u001b[0m\u001b[0;34m(\u001b[0m\u001b[0ma_dir\u001b[0m\u001b[0;34m)\u001b[0m\u001b[0;34m\u001b[0m\u001b[0;34m\u001b[0m\u001b[0m\n\u001b[0;32m---> 19\u001b[0;31m     \u001b[0mcrop_bound\u001b[0m \u001b[0;34m=\u001b[0m \u001b[0mgpd\u001b[0m\u001b[0;34m.\u001b[0m\u001b[0mread_file\u001b[0m\u001b[0;34m(\u001b[0m\u001b[0mcrop_path\u001b[0m\u001b[0;34m)\u001b[0m\u001b[0;34m\u001b[0m\u001b[0;34m\u001b[0m\u001b[0m\n\u001b[0m\u001b[1;32m     20\u001b[0m     \u001b[0mcrop_site\u001b[0m\u001b[0;34m.\u001b[0m\u001b[0mappend\u001b[0m\u001b[0;34m(\u001b[0m\u001b[0mcrop_bound\u001b[0m\u001b[0;34m)\u001b[0m\u001b[0;34m\u001b[0m\u001b[0;34m\u001b[0m\u001b[0m\n\u001b[1;32m     21\u001b[0m \u001b[0;34m\u001b[0m\u001b[0m\n",
      "\u001b[0;31mNameError\u001b[0m: name 'crop_path' is not defined"
     ]
    }
   ],
   "source": [
    "# Create dataframe of NDVI including the cleaning data to deal with clouds\n",
    "# Unable to complete can not figure out how/why/where code breaks\n",
    "\n",
    "# Capture  the site name, and  date in  a list\n",
    "# Important: to use the ungraded tests below as a sanity check,\n",
    "# name your columns: mean_ndvi and site\n",
    "# Don't forget to set date as the index and make the values of type datetime\n",
    "\n",
    "# Create paths\n",
    "path = os.path.join(\"ndvi-automation\", \"sites\")\n",
    "sites = glob(path + \"/*/\")\n",
    "all_dirs = glob(os.path.join(path, \"*/\"))\n",
    "crop_sites = glob(os.path.join(path, \"*\", \"vector\", \"*.shp\"))\n",
    "landsat_dirs = glob(os.path.join(path, \"*\", \"landsat-crop\", \"LC08*\"))\n",
    "\n",
    "all_sites = []\n",
    "for a_dir in all_dirs:\n",
    "    print(a_dir)\n",
    "    crop_bound = gpd.read_file(crop_path)\n",
    "    crop_site.append(crop_bound)\n",
    "\n",
    "# Loop through and sort all 4-5 band .tif files\n",
    "for a_dir in landsat_dirs:\n",
    "    bands_path = sorted(glob(os.path.join(a_dir, \"*band[4-5]*.tif\")))\n",
    "\n",
    "    # Apply function that opens & clips the data using loop for both bands\n",
    "    all_bands_2 = []\n",
    "    for a_band in bands_path:\n",
    "        clean_band = open_clean_bands(band_path=bands_path,\n",
    "                                      crop_extent=crop_bound,\n",
    "                                      valid_range=(0, 10000))\n",
    "        all_bands_2.append(clean_band)\n",
    "# Cloud no data vals\n",
    "        vals = [328, 392, 840, 904, 1350, 352, 368, 416,\n",
    "                432, 480, 864, 880, 928, 944, 992, 480, 992]\n",
    "# Loop through all cloud mask layer\n",
    "        for qa_file in landsat_dirs:\n",
    "            pixels_qa_path = glob(os.path.join(qa_file, \"*qa*\"))\n",
    "# Open and mask landsat band using a pixel_qa layer\n",
    "\n",
    "            ndvi_clean = mask_crop_ndvi(all_bands=all_bands_2,\n",
    "                                        crop_bound=crop_bound,\n",
    "                                        pixel_qa_path=pixels_qa_path,\n",
    "                                        vals=vals)\n",
    "        # Get mean from ndvi_clean\n",
    "            ndvi_mean = np.nanmean(ndvi_clean)\n",
    "            all_sites.append(ndvi_mean)"
   ]
  },
  {
   "cell_type": "markdown",
   "metadata": {},
   "source": [
    "Side note: I think this code is more broken than the original I turned in.\n",
    "Ideally the loops and functions would have saved steps and processing time on a larger scale than just the single site.  Adding the nested loop would allow you to loop through multiple sites and bands. It is important to have a list [] or dictionary {} to store data in so that it is not just over written. "
   ]
  },
  {
   "cell_type": "code",
   "execution_count": null,
   "metadata": {},
   "outputs": [],
   "source": [
    "# Create dataframe\n",
    "sitename = os.path.basename(os.path.normpath(a_crop[-13:-9]))\n",
    "date = os.path.basename(os.path.normpath(a_band))\n",
    "date = date[26:34]\n",
    "data_2 = {\"date\": [date], \"site\": [sitename], \"mean_ndvi\": [ndvi_mean]}\n",
    "ndvi_df = pd.DataFrame(data=data_2)\n",
    "ndvi_df['date'] = pd.to_datetime(ndvi_df['date'])\n",
    "ndvi_df = ndvi_df.set_index('date')\n",
    "ndvi_df"
   ]
  },
  {
   "cell_type": "code",
   "execution_count": null,
   "metadata": {
    "deletable": false,
    "editable": false,
    "nbgrader": {
     "cell_type": "code",
     "checksum": "1ce5d7d7519d5e569e6cf7c5927c6ffb",
     "grade": true,
     "grade_id": "cleaned_dataframes_test",
     "locked": true,
     "points": 10,
     "schema_version": 3,
     "solution": false,
     "task": false
    }
   },
   "outputs": [],
   "source": [
    "# Last sanity check before creating your plot (10 points)\n",
    "\n",
    "# Ensure that you call your dataframe at the bottom of the cell above\n",
    "# and that it has columns called: mean_ndvi and site\n",
    "\n",
    "# Ensure the data is stored in a dataframe.\n",
    "student_ndvi_df = _\n",
    "\n",
    "df_points = 0\n",
    "\n",
    "if isinstance(student_ndvi_df, pd.DataFrame):\n",
    "    print('\\u2705 Your data is stored in a DataFrame!')\n",
    "    df_points +=2\n",
    "else:\n",
    "    print('\\u274C It appears your data is not stored in a DataFrame. ',\n",
    "          'To see what type of object your data is stored in, check its type with type(object)')\n",
    "\n",
    "# Check that dataframe contains the appropriate number of NAN values\n",
    "if student_ndvi_df.mean_ndvi.isna().sum() == 15:\n",
    "    print('\\u2705 Correct number of masked data values!')\n",
    "    df_points +=2\n",
    "else:\n",
    "    print('\\u274C The amount of null data in your dataframe is incorrect.')\n",
    "\n",
    "\n",
    "# Ensure that the date column is the index\n",
    "if isinstance(student_ndvi_df.index, pd.core.indexes.datetimes.DatetimeIndex):\n",
    "    print('\\u2705 You have the index set to the date column!')\n",
    "    df_points +=3\n",
    "else:\n",
    "    print('\\u274C You do not have the index set to the date column.')\n",
    "\n",
    "# Ensure that the date column is datetime\n",
    "if isinstance(student_ndvi_df.index[0], pd._libs.tslibs.timestamps.Timestamp):\n",
    "    print('\\u2705 The data in your date column is datetime!')\n",
    "    df_points +=3\n",
    "else:\n",
    "    print('\\u274C The data in your date column is not datetime.')\n",
    "\n",
    "# Output for timer, # DO NOT MODIFY\n",
    "end_time = datetime.now()\n",
    "total_time = end_time - start_time\n",
    "print(\n",
    "    \"Your total run time for processing the data was {0}.\".format(total_time))\n",
    "\n",
    "print(\"\\n \\u27A1 You received {} out of 10 points for creating a dataframe.\".format(\n",
    "    df_points))\n",
    "\n",
    "df_points"
   ]
  },
  {
   "cell_type": "code",
   "execution_count": null,
   "metadata": {
    "caption": "Plot showing NDVI for each time period at both NEON Sites. In this example the cloudy pixels were removed using the pixel_qa cloud mask. Notice that this makes a significant different in the output values. Why do you think this difference is so significant?",
    "deletable": false,
    "nbgrader": {
     "cell_type": "code",
     "checksum": "f9d5ebf0557e366fa6f1727fd85a7e45",
     "grade": false,
     "grade_id": "plot_cleaned_dataframes_answer",
     "locked": false,
     "schema_version": 3,
     "solution": true,
     "task": false
    },
    "tags": [
     "hide"
    ]
   },
   "outputs": [],
   "source": [
    "# Add only the plot code to this cell\n",
    "# Unable to complete/ figure out without dataframe\n",
    "\n",
    "# This is the final figure of mean NDVI\n",
    "# for both sites across the year\n",
    "# with data cleaned to deal with clouds\n",
    "# Define plot space\n",
    "fig, ax = plt.subplots(figsize=(10, 10))\n",
    "fig.suptitle(\n",
    "    \"Landsat 8 - Clouds Removed \\n Mean Normalized Difference Vegetetation Index (NDVI)\",\n",
    "    fontsize=20)\n",
    "\n",
    "# Create a dictionary with site atrributes\n",
    "label_dict = {'SJER': 'SJER', 'HARV': 'HARV'}\n",
    "color_map = {'SJER': 'green', 'HARV': 'magenta'}\n",
    "\n",
    "# Create a for loop to plot data\n",
    "for label, grp in all_sites.groupby(['site']):\n",
    "    grp.plot(date.index,\n",
    "             y='mean_ndvi',\n",
    "             ax=ax,\n",
    "             label=label_dict[label],\n",
    "             color=color_map[label],\n",
    "             marker=\"o\")\n",
    "# Set plot labels\n",
    "ax.set(xlabel=\"Date\",\n",
    "       ylabel=\"Mean NDVI\")\n",
    "\n",
    "plt.tight_layout()\n",
    "plt.show()\n",
    "\n",
    "\n",
    "### DO NOT REMOVE LINES BELOW ###\n",
    "final_masked_solution = nb.convert_axes(plt, which_axes=\"current\")"
   ]
  },
  {
   "cell_type": "code",
   "execution_count": null,
   "metadata": {
    "deletable": false,
    "editable": false,
    "nbgrader": {
     "cell_type": "code",
     "checksum": "d2bc7d91b553a74e6382776fface9c70",
     "grade": true,
     "grade_id": "plot_cleaned_dataframes_test_answers",
     "locked": true,
     "points": 0,
     "schema_version": 3,
     "solution": false,
     "task": false
    }
   },
   "outputs": [],
   "source": [
    "# Ignore this cell for the autograding tests\n"
   ]
  },
  {
   "cell_type": "code",
   "execution_count": null,
   "metadata": {
    "deletable": false,
    "editable": false,
    "nbgrader": {
     "cell_type": "code",
     "checksum": "23a1c68916e304be754ea15d9495e781",
     "grade": true,
     "grade_id": "plot_cleaned_dataframes_tests",
     "locked": true,
     "points": 50,
     "schema_version": 3,
     "solution": false,
     "task": false
    }
   },
   "outputs": [],
   "source": [
    "# Ignore this cell for the autograding tests\n"
   ]
  },
  {
   "cell_type": "markdown",
   "metadata": {
    "deletable": false,
    "editable": false,
    "nbgrader": {
     "cell_type": "markdown",
     "checksum": "c660ce8da16752276c4b16e35c7d2726",
     "grade": false,
     "grade_id": "question-1",
     "locked": true,
     "schema_version": 3,
     "solution": false,
     "task": false
    }
   },
   "source": [
    "# Question 1 (10 points)\n",
    "\n",
    "Imagine that you are planning NEON’s upcoming flight season to capture remote sensing data in these locations and want to ensure that you fly the area when the vegetation is the most green.\n",
    "\n",
    "When would you recommend the flights take place for each site? \n",
    "\n",
    "Answer the question in 2-3 sentences in the Markdown cell below."
   ]
  },
  {
   "cell_type": "markdown",
   "metadata": {
    "deletable": false,
    "nbgrader": {
     "cell_type": "markdown",
     "checksum": "26a85257b913135d401b6dc4fd2a4fc3",
     "grade": true,
     "grade_id": "question-1-answer",
     "locked": false,
     "points": 10,
     "schema_version": 3,
     "solution": true,
     "task": false
    }
   },
   "source": [
    "If I were planning NEON's upcoming flight season and wanted to capture when the vegetation is the most green I would plan flights throughout the summer for the Harvard site. NDVI values are consistently high from mid-May until mid-September.  The SJER sight would have a different flight plan and the most green would be seen in the Spring, mid-March through April."
   ]
  },
  {
   "cell_type": "markdown",
   "metadata": {
    "deletable": false,
    "editable": false,
    "nbgrader": {
     "cell_type": "markdown",
     "checksum": "603922a2076d0940962432ebc5069ef9",
     "grade": false,
     "grade_id": "question-2",
     "locked": true,
     "schema_version": 3,
     "solution": false,
     "task": false
    }
   },
   "source": [
    "# Question 2 (10 points)\n",
    "\n",
    "How could you modify your workflow to look at vegetation changes over time in each site? \n",
    "\n",
    "Answer the question in 2-3 sentences in the Markdown cell below."
   ]
  },
  {
   "cell_type": "markdown",
   "metadata": {
    "deletable": false,
    "nbgrader": {
     "cell_type": "markdown",
     "checksum": "f4ae5b1f3a47c9bf44714a2de486da54",
     "grade": true,
     "grade_id": "question-2-answer",
     "locked": false,
     "points": 10,
     "schema_version": 3,
     "solution": true,
     "task": false
    }
   },
   "source": [
    "To look at vegetation changes over time we would need more data.  The data files could be combined with the current ones adding more years.  If the data collected was the same Landsat data these files could be combined with the current files and you would just have to update the data and make sure the file paths remained the same. You could use the existing functions and loops to look at data over a longer period of time."
   ]
  },
  {
   "cell_type": "markdown",
   "metadata": {
    "deletable": false,
    "editable": false,
    "nbgrader": {
     "cell_type": "markdown",
     "checksum": "df53001e9821bf3baef478a3b29bde33",
     "grade": false,
     "grade_id": "additional-markdown-cell-check",
     "locked": true,
     "points": 10,
     "schema_version": 3,
     "solution": false,
     "task": true
    }
   },
   "source": [
    "# Do not edit this cell! (10 points)\n",
    "\n",
    "The notebook includes:\n",
    "* additional Markdown cells throughout the notebook to describe: \n",
    "    * the data that you used - and where it is from\n",
    "    * how data are being processing\n",
    "    * how the code is optimized to run fast and be more concise"
   ]
  },
  {
   "cell_type": "markdown",
   "metadata": {
    "deletable": false,
    "editable": false,
    "nbgrader": {
     "cell_type": "markdown",
     "checksum": "bcc0e446306a9db445d1ab243227c563",
     "grade": false,
     "grade_id": "pep8-formatting-check",
     "locked": true,
     "points": 30,
     "schema_version": 3,
     "solution": false,
     "task": true
    }
   },
   "source": [
    "# Do not edit this cell! (20 points)\n",
    "\n",
    "The notebook will also be checked for overall clean code requirements as specified at the **top** of this notebook. Some of these requirements include (review the top cells for more specifics): \n",
    "\n",
    "* Notebook begins at cell [1] and runs on any machine in its entirety.\n",
    "* PEP 8 format is applied throughout (including lengths of comment and code lines).\n",
    "* No additional code or imports in the notebook that is not needed for the workflow.\n",
    "* Notebook is fully reproducible. This means:\n",
    "   * reproducible paths using the os module.\n",
    "   * data downloaded using code in the notebook.\n",
    "   * all imports at top of notebook."
   ]
  },
  {
   "cell_type": "markdown",
   "metadata": {
    "deletable": false,
    "editable": false,
    "nbgrader": {
     "cell_type": "markdown",
     "checksum": "67969627ed2d8a81a168d0ed1831224d",
     "grade": false,
     "grade_id": "cell-bf1766fe2443b94a",
     "locked": true,
     "points": 0,
     "schema_version": 3,
     "solution": false,
     "task": true
    }
   },
   "source": [
    "## BONUS - Export a  .CSV File to Share (10 points possible)\n",
    "\n",
    "This is optional - if you export a **.csv** file with the columns specified above: Site, Date and NDVI Value you can get an additional 10 points.\n",
    "\n",
    "* FULL CREDIT: File exists in csv format and contains the columns specified.\n",
    "We will check your github repo for this file!\n"
   ]
  }
 ],
 "metadata": {
  "kernelspec": {
   "display_name": "Python 3",
   "language": "python",
   "name": "python3"
  },
  "language_info": {
   "codemirror_mode": {
    "name": "ipython",
    "version": 3
   },
   "file_extension": ".py",
   "mimetype": "text/x-python",
   "name": "python",
   "nbconvert_exporter": "python",
   "pygments_lexer": "ipython3",
   "version": "3.8.8"
  },
  "toc": {
   "base_numbering": 1,
   "nav_menu": {},
   "number_sections": true,
   "sideBar": true,
   "skip_h1_title": false,
   "title_cell": "Table of Contents",
   "title_sidebar": "Contents",
   "toc_cell": false,
   "toc_position": {},
   "toc_section_display": true,
   "toc_window_display": false
  },
  "varInspector": {
   "cols": {
    "lenName": 16,
    "lenType": 16,
    "lenVar": 40
   },
   "kernels_config": {
    "python": {
     "delete_cmd_postfix": "",
     "delete_cmd_prefix": "del ",
     "library": "var_list.py",
     "varRefreshCmd": "print(var_dic_list())"
    },
    "r": {
     "delete_cmd_postfix": ") ",
     "delete_cmd_prefix": "rm(",
     "library": "var_list.r",
     "varRefreshCmd": "cat(var_dic_list()) "
    }
   },
   "types_to_exclude": [
    "module",
    "function",
    "builtin_function_or_method",
    "instance",
    "_Feature"
   ],
   "window_display": false
  }
 },
 "nbformat": 4,
 "nbformat_minor": 2
}
